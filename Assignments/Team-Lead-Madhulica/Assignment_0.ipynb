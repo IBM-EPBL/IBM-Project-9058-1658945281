{
  "cells": [
    {
      "cell_type": "markdown",
      "source": [
        "**B1A3E-07 Module 3 : Python Assignment**\n",
        "\n",
        "IBM Team Lead\n",
        "\n",
        "Name: S A Madhulica\n",
        "\n",
        "Reg No: 195001094\n"
      ],
      "metadata": {
        "id": "1W_VHwWzxINR"
      }
    },
    {
      "cell_type": "code",
      "source": [
        "\"\"\" Q) Consider a list (list = []). You can perform the following commands:\n",
        "insert i e: Insert integer  at position .\n",
        "print: Print the list.\n",
        "remove e: Delete the first occurrence of integer .\n",
        "append e: Insert integer  at the end of the list.\n",
        "sort: Sort the list.\n",
        "pop: Pop the last element from the list.\n",
        "reverse: Reverse the list.\n",
        "Initialize your list and read in the value of  followed by  lines of commands where each command will be of the  types listed above. Iterate through each command in order and perform the corresponding operation on your list.\"\"\"\n",
        "\n",
        "def print_list(list,operation):\n",
        "    print(operation)\n",
        "    print(list)\n",
        "\n",
        "list = [12,34,56,78]\n",
        "print_list(list,\"Initial list\")\n",
        "\n",
        "list.insert(1,3)\n",
        "print_list(list,\"Insert 3 at index 1\")\n",
        "\n",
        "list.remove(3)\n",
        "print_list(list,\"Remove 1st occurence of 3\")\n",
        "\n",
        "list.append(100)\n",
        "print_list(list,\"Append 100\")\n",
        "\n",
        "list.sort()\n",
        "print_list(list,\"Sort the list\")\n",
        "\n",
        "list.pop()\n",
        "print_list(list,\"Pop from list\")\n",
        "\n",
        "list.reverse()\n",
        "print_list(list,\"Reverse list\")"
      ],
      "metadata": {
        "id": "XnMyE3iGudro",
        "outputId": "7b68034f-4937-49a5-f4bd-2aaa8091bca2",
        "colab": {
          "base_uri": "https://localhost:8080/"
        }
      },
      "execution_count": 3,
      "outputs": [
        {
          "output_type": "stream",
          "name": "stdout",
          "text": [
            "Initial list\n",
            "[12, 34, 56, 78]\n",
            "Insert 3 at index 1\n",
            "[12, 3, 34, 56, 78]\n",
            "Remove 1st occurence of 3\n",
            "[12, 34, 56, 78]\n",
            "Append 100\n",
            "[12, 34, 56, 78, 100]\n",
            "Sort the list\n",
            "[12, 34, 56, 78, 100]\n",
            "Pop from list\n",
            "[12, 34, 56, 78]\n",
            "Reverse list\n",
            "[78, 56, 34, 12]\n"
          ]
        }
      ]
    },
    {
      "cell_type": "code",
      "source": [
        "#Q)Write a Calculator program in Python?\n",
        "\n",
        "def add(P, Q):    \n",
        "   # This function is used for adding two numbers   \n",
        "   return P + Q   \n",
        "def subtract(P, Q):   \n",
        "   # This function is used for subtracting two numbers   \n",
        "   return P - Q   \n",
        "def multiply(P, Q):   \n",
        "   # This function is used for multiplying two numbers   \n",
        "   return P * Q   \n",
        "def divide(P, Q):   \n",
        "   # This function is used for dividing two numbers    \n",
        "   return P / Q    \n",
        "# Now we will take inputs from the user    \n",
        "print (\"Please select the operation.\")    \n",
        "print (\"a. Add\")    \n",
        "print (\"b. Subtract\")    \n",
        "print (\"c. Multiply\")    \n",
        "print (\"d. Divide\")    \n",
        "    \n",
        "choice = input(\"Please enter choice (a/ b/ c/ d): \")    \n",
        "    \n",
        "num_1 = int (input (\"Please enter the first number: \"))    \n",
        "num_2 = int (input (\"Please enter the second number: \"))    \n",
        "    \n",
        "if choice == 'a':    \n",
        "   print (num_1, \" + \", num_2, \" = \", add(num_1, num_2))    \n",
        "    \n",
        "elif choice == 'b':    \n",
        "   print (num_1, \" - \", num_2, \" = \", subtract(num_1, num_2))    \n",
        "    \n",
        "elif choice == 'c':    \n",
        "   print (num_1, \" * \", num_2, \" = \", multiply(num_1, num_2))    \n",
        "elif choice == 'd':    \n",
        "   print (num_1, \" / \", num_2, \" = \", divide(num_1, num_2))    \n",
        "else:    \n",
        "   print (\"This is an invalid input\")  "
      ],
      "metadata": {
        "id": "-C171JJLvR-E",
        "outputId": "e5b69d17-bacb-4f59-b33b-f0534d83f451",
        "colab": {
          "base_uri": "https://localhost:8080/"
        }
      },
      "execution_count": 4,
      "outputs": [
        {
          "output_type": "stream",
          "name": "stdout",
          "text": [
            "Please select the operation.\n",
            "a. Add\n",
            "b. Subtract\n",
            "c. Multiply\n",
            "d. Divide\n",
            "Please enter choice (a/ b/ c/ d): c\n",
            "Please enter the first number: 4\n",
            "Please enter the second number: 5\n",
            "4  *  5  =  20\n"
          ]
        }
      ]
    },
    {
      "cell_type": "code",
      "source": [
        "#Q) Write a program to concatenate, reverse and slice a string\n",
        "\n",
        "\n",
        "firstname=\"Madhulica\"\n",
        "lastname=\" S A\"\n",
        "name=firstname+lastname\n",
        "print(name)\n",
        "print(name[::-1])\n",
        "print(name[0:4])"
      ],
      "metadata": {
        "id": "PIU_MJG-vyjl",
        "outputId": "4b1e00d4-1a99-4976-a8a8-28352f34d9e7",
        "colab": {
          "base_uri": "https://localhost:8080/"
        }
      },
      "execution_count": 6,
      "outputs": [
        {
          "output_type": "stream",
          "name": "stdout",
          "text": [
            "Madhulica S A\n",
            "A S aciluhdaM\n",
            "Madh\n"
          ]
        }
      ]
    },
    {
      "cell_type": "markdown",
      "source": [
        "Q) Why is Python a popular programming language?\n",
        "\n",
        "It is widely used in AI and Ml algorithms.\n",
        "It uses a simplified syntax with an emphasis on natural language, for a much easier learning curve for beginners. And, because Python is free to use and is supported by an extremely large ecosystem of libraries and packages, it’s often the first-choice language for new developers.\n",
        "\n",
        "Q) What are the other Frameworks that can be used with python?\n",
        "\n",
        "Flask, Django, Pyramid, CherryPy and ETC\n",
        "\n",
        "Q) Full form of WSGI?\n",
        "\n",
        "WSGI: Web Server Gateway Interface"
      ],
      "metadata": {
        "id": "NPJXj3Q1wJZW"
      }
    }
  ],
  "metadata": {
    "colab": {
      "collapsed_sections": [],
      "name": "Welcome To Colaboratory",
      "toc_visible": true,
      "provenance": []
    },
    "kernelspec": {
      "display_name": "Python 3",
      "name": "python3"
    }
  },
  "nbformat": 4,
  "nbformat_minor": 0
}