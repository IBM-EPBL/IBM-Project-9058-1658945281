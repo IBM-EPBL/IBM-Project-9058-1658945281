{
  "nbformat": 4,
  "nbformat_minor": 0,
  "metadata": {
    "colab": {
      "provenance": []
    },
    "kernelspec": {
      "name": "python3",
      "display_name": "Python 3"
    },
    "language_info": {
      "name": "python"
    }
  },
  "cells": [
    {
      "cell_type": "code",
      "execution_count": 12,
      "metadata": {
        "colab": {
          "base_uri": "https://localhost:8080/"
        },
        "id": "2vNyvGOVssWK",
        "outputId": "1338ac40-bcf2-407b-ddde-45fed23eb9b9"
      },
      "outputs": [
        {
          "output_type": "stream",
          "name": "stdout",
          "text": [
            "Initial list\n",
            "[13, 3, 11, 5]\n",
            "Insert 2 at index 1\n",
            "[13, 2, 3, 11, 5]\n",
            "Remove 1st occurence of 5\n",
            "[13, 2, 3, 11]\n",
            "Append 1\n",
            "[13, 2, 3, 11, 1]\n",
            "Sort the list\n",
            "[1, 2, 3, 11, 13]\n",
            "Pop from list\n",
            "[1, 2, 3, 11]\n",
            "Reverse list\n",
            "[11, 3, 2, 1]\n"
          ]
        }
      ],
      "source": [
        "def print_list(list,operation):\n",
        "    print(operation)\n",
        "    print(list)\n",
        "list = [13,3,11,5]\n",
        "print_list(list,\"Initial list\")\n",
        "list.insert(1,2)\n",
        "print_list(list,\"Insert 2 at index 1\")\n",
        "list.remove(5)\n",
        "print_list(list,\"Remove 1st occurence of 5\")\n",
        "list.append(1)\n",
        "print_list(list,\"Append 1\")\n",
        "list.sort()\n",
        "print_list(list,\"Sort the list\")\n",
        "list.pop()\n",
        "print_list(list,\"Pop from list\")\n",
        "list.reverse()\n",
        "print_list(list,\"Reverse list\")"
      ]
    },
    {
      "cell_type": "code",
      "source": [
        "def add(P, Q):      \n",
        "   return P + Q   \n",
        "def subtract(P, Q):   \n",
        "   return P - Q   \n",
        "def multiply(P, Q):     \n",
        "   return P * Q   \n",
        "def divide(P, Q):     \n",
        "   return P / Q     \n",
        "print (\"a. Add\")    \n",
        "print (\"b. Subtract\")    \n",
        "print (\"c. Multiply\")    \n",
        "print (\"d. Divide\")    \n",
        "choice = input(\"Please enter choice (a/ b/ c/ d): \")    \n",
        "num_1 = int (input (\"Please enter the first number: \"))    \n",
        "num_2 = int (input (\"Please enter the second number: \"))    \n",
        "if choice == 'a':    \n",
        "   print (num_1, \" + \", num_2, \" = \", add(num_1, num_2))    \n",
        "elif choice == 'b':    \n",
        "   print (num_1, \" - \", num_2, \" = \", subtract(num_1, num_2))    \n",
        "elif choice == 'c':    \n",
        "   print (num_1, \" * \", num_2, \" = \", multiply(num_1, num_2))    \n",
        "elif choice == 'd':    \n",
        "   print (num_1, \" / \", num_2, \" = \", divide(num_1, num_2))    \n",
        "else:    \n",
        "   print (\"This is an invalid input\")    "
      ],
      "metadata": {
        "colab": {
          "base_uri": "https://localhost:8080/"
        },
        "id": "LSwKSGD7t61X",
        "outputId": "42333037-b257-4d93-9619-9e6386b9d034"
      },
      "execution_count": 14,
      "outputs": [
        {
          "output_type": "stream",
          "name": "stdout",
          "text": [
            "a. Add\n",
            "b. Subtract\n",
            "c. Multiply\n",
            "d. Divide\n",
            "Please enter choice (a/ b/ c/ d): c\n",
            "Please enter the first number: 8\n",
            "Please enter the second number: 8\n",
            "8  *  8  =  64\n"
          ]
        }
      ]
    },
    {
      "cell_type": "code",
      "source": [
        "firstname=\"vaivav\"\n",
        "lastname=\"pandey\"\n",
        "name=firstname+lastname\n",
        "print(name)\n",
        "print(name[::-1])\n",
        "print(name[0:7])"
      ],
      "metadata": {
        "colab": {
          "base_uri": "https://localhost:8080/"
        },
        "id": "_mvV-SXmvGad",
        "outputId": "d037cd67-cea7-4de7-da32-5572db9e8907"
      },
      "execution_count": 15,
      "outputs": [
        {
          "output_type": "stream",
          "name": "stdout",
          "text": [
            "vaivavpandey\n",
            "yednapvaviav\n",
            "vaivavp\n"
          ]
        }
      ]
    },
    {
      "cell_type": "code",
      "source": [
        "Why is Python a popular programming language?\n",
        "\n",
        "Due to its ease of learning and usage, Python codes can easily be written and executed much faster than other programming languages. One of the main reasons why Python's popularity has exponentially grown is due to its simplicity in syntax so that it could be easy to read and developed by amateur professionals as well.\n",
        "\n",
        "What are the other Frameworks that can be used with python? Django Pyramid Flask CherryPy ETC\n",
        "\n",
        "Full form of WSGI? Web Server Gateway Interface"
      ],
      "metadata": {
        "id": "4qTYqx4Avg39"
      },
      "execution_count": null,
      "outputs": []
    },
    {
      "cell_type": "code",
      "source": [],
      "metadata": {
        "id": "nnG6JdN3zK5w"
      },
      "execution_count": null,
      "outputs": []
    }
  ]
}