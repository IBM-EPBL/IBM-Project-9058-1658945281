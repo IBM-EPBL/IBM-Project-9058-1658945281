{
  "nbformat": 4,
  "nbformat_minor": 0,
  "metadata": {
    "colab": {
      "provenance": []
    },
    "kernelspec": {
      "name": "python3",
      "display_name": "Python 3"
    },
    "language_info": {
      "name": "python"
    }
  },
  "cells": [
    {
      "cell_type": "code",
      "execution_count": 1,
      "metadata": {
        "colab": {
          "base_uri": "https://localhost:8080/"
        },
        "id": "2vNyvGOVssWK",
        "outputId": "79ed9b8c-9dfb-4d23-8954-30e7eb4489a8"
      },
      "outputs": [
        {
          "output_type": "stream",
          "name": "stdout",
          "text": [
            "Initial list\n",
            "[12, 4, 25, 5]\n",
            "Insert 9 at index 3\n",
            "[12, 4, 25, 9, 5]\n",
            "Remove 1st occurence of 5\n",
            "[12, 4, 25, 9]\n",
            "Append 7\n",
            "[12, 4, 25, 9, 7]\n",
            "Sort the list\n",
            "[4, 7, 9, 12, 25]\n",
            "Pop from list\n",
            "[4, 7, 9, 12]\n",
            "Reverse list\n",
            "[12, 9, 7, 4]\n"
          ]
        }
      ],
      "source": [
        "#Question-1-List Operations\n",
        "def print_l(l,ope):\n",
        "    print(ope)\n",
        "    print(l)\n",
        "l = [12,4,25,5]\n",
        "print_l(l,\"Initial list\")\n",
        "l.insert(3,9)\n",
        "print_l(l,\"Insert 9 at index 3\")\n",
        "l.remove(5)\n",
        "print_l(l,\"Remove 1st occurence of 5\")\n",
        "l.append(7)\n",
        "print_l(l,\"Append 7\")\n",
        "l.sort()\n",
        "print_l(l,\"Sort the list\")\n",
        "l.pop()\n",
        "print_l(l,\"Pop from list\")\n",
        "l.reverse()\n",
        "print_l(l,\"Reverse list\")"
      ]
    },
    {
      "cell_type": "code",
      "source": [
        "#Question-2-Calculator\n",
        "def add(A,B):    \n",
        "   return A + B   \n",
        "def subtract(A, B):   \n",
        "   return A - B   \n",
        "def multiply(A, B):    \n",
        "   return A * B   \n",
        "def divide(A, B):   \n",
        "   return A / B        \n",
        "print(\"1. Add\")    \n",
        "print(\"2. Subtract\")    \n",
        "print(\"3. Multiply\")    \n",
        "print(\"4. Divide\")    \n",
        "c = int(input(\"Please enter choice (1/2/3/4): \"))    \n",
        "num_1 = int(input(\"Please enter the first number: \"))    \n",
        "num_2 = int(input(\"Please enter the second number: \"))    \n",
        "print(\"Result is: \")\n",
        "if c == 1:    \n",
        "   print (num_1, \" + \", num_2, \" = \", add(num_1,num_2))        \n",
        "elif c == 2:    \n",
        "   print (num_1, \" - \", num_2, \" = \", subtract(num_1,num_2))    \n",
        "elif c == 3:    \n",
        "   print (num_1, \" * \", num_2, \" = \", multiply(num_1,num_2))    \n",
        "elif c == 4:    \n",
        "   print (num_1, \" / \", num_2, \" = \", divide(num_1,num_2))    \n",
        "else:    \n",
        "   print (\"This is an invalid input\")    "
      ],
      "metadata": {
        "colab": {
          "base_uri": "https://localhost:8080/"
        },
        "id": "LSwKSGD7t61X",
        "outputId": "a349591c-54d8-40c4-94bd-accf6043a325"
      },
      "execution_count": 2,
      "outputs": [
        {
          "output_type": "stream",
          "name": "stdout",
          "text": [
            "1. Add\n",
            "2. Subtract\n",
            "3. Multiply\n",
            "4. Divide\n",
            "Please enter choice (1/2/3/4): 3\n",
            "Please enter the first number: 4\n",
            "Please enter the second number: 6\n",
            "4  *  6  =  24\n"
          ]
        }
      ]
    },
    {
      "cell_type": "code",
      "source": [
        "#Question-3-String-Operations\n",
        "first=\"ARAN\"\n",
        "last=\"DEEP\"\n",
        "name=first+last\n",
        "print(name)\n",
        "print(name[::-1])\n",
        "print(name[0:4])"
      ],
      "metadata": {
        "colab": {
          "base_uri": "https://localhost:8080/"
        },
        "id": "_mvV-SXmvGad",
        "outputId": "878a26d5-5235-4c24-ebb1-2e45b5beda87"
      },
      "execution_count": 5,
      "outputs": [
        {
          "output_type": "stream",
          "name": "stdout",
          "text": [
            "ARANDEEP\n",
            "PEEDNARA\n",
            "ARAN\n"
          ]
        }
      ]
    },
    {
      "cell_type": "code",
      "source": [
        "Q) Why is Python a popular programming language?\n",
        "It uses a simplified syntax with an emphasis on natural language, for a much easier learning curve for beginners. And, because Python is free to use and is supported by an extremely large ecosystem of libraries and packages, it’s often the first-choice language for new developers.\n",
        "\n",
        "Q)What are the other Frameworks that can be used with python?\n",
        "Django, Pyramid, Flask, CherryPy and ETC\n",
        "\n",
        "Q)Full form of WSGI?\n",
        "Web Server Gateway Interface"
      ],
      "metadata": {
        "id": "4qTYqx4Avg39"
      },
      "execution_count": null,
      "outputs": []
    }
  ]
}