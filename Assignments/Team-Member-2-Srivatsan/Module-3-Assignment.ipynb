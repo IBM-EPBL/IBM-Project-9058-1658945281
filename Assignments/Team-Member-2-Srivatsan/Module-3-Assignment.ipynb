{
 "cells": [
  {
   "cell_type": "code",
   "execution_count": 9,
   "metadata": {},
   "outputs": [
    {
     "name": "stdout",
     "output_type": "stream",
     "text": [
      "Initial list\n",
      "[10, 5, 3, 8, 11, 15]\n",
      "Insert 2 at index 1\n",
      "[10, 2, 5, 3, 8, 11, 15]\n",
      "Remove 1st occurence of 1.5\n",
      "[10, 2, 5, 3, 8, 15]\n",
      "Append 1.5\n",
      "[10, 2, 5, 3, 8, 15, 22.9]\n",
      "Sort the list\n",
      "[2, 3, 5, 8, 10, 15, 22.9]\n",
      "Pop from list\n",
      "[2, 3, 5, 8, 10, 15]\n",
      "Reversed list\n",
      "[15, 10, 8, 5, 3, 2]\n"
     ]
    }
   ],
   "source": [
    "\"\"\"\n",
    "Consider a list (list = []). You can perform the following commands:\n",
    "insert i e: Insert integer  at position .\n",
    "print: Print the list.\n",
    "remove e: Delete the first occurrence of integer .\n",
    "append e: Insert integer  at the end of the list.\n",
    "sort: Sort the list.\n",
    "pop: Pop the last element from the list.\n",
    "reverse: Reverse the list.\n",
    "Initialize your list and read in the value of  followed by  lines of commands where each command will be of the  types listed above. Iterate through each command in order and perform the corresponding operation on your list.\n",
    "\n",
    "\"\"\"\n",
    "\n",
    "def print_list(list,operation):\n",
    "    print(operation)\n",
    "    print(list)\n",
    "\n",
    "list = [10,5,3,8,11,15]\n",
    "print_list(list,\"Initial list\")\n",
    "\n",
    "list.insert(1,2)\n",
    "print_list(list,\"Insert 2 at index 1\")\n",
    "\n",
    "list.remove(11)\n",
    "print_list(list,\"Remove 1st occurence of 1.5\")\n",
    "\n",
    "list.append(22.9)\n",
    "print_list(list,\"Append 1.5\")\n",
    "\n",
    "list.sort()\n",
    "print_list(list,\"Sort the list\")\n",
    "\n",
    "list.pop()\n",
    "print_list(list,\"Pop from list\")\n",
    "\n",
    "list.reverse()\n",
    "print_list(list,\"Reversed list\")"
   ]
  },
  {
   "cell_type": "markdown",
   "metadata": {},
   "source": [
    "x"
   ]
  },
  {
   "cell_type": "code",
   "execution_count": 5,
   "metadata": {},
   "outputs": [
    {
     "name": "stdout",
     "output_type": "stream",
     "text": [
      "Please select the operation.\n",
      "a. Add\n",
      "b. Subtract\n",
      "c. Multiply\n",
      "d. Divide\n",
      "Please enter choice (a/ b/ c/ d): b\n",
      "Please enter the first number: 2\n",
      "Please enter the second number: 5\n",
      "The Result is :  -3\n"
     ]
    }
   ],
   "source": [
    "#Write a Calculator program in Python?\n",
    "\n",
    "def add(P, Q):    \n",
    "   # This function is used for adding two numbers   \n",
    "   return P + Q   \n",
    "def subtract(P, Q):   \n",
    "   # This function is used for subtracting two numbers   \n",
    "   return P - Q   \n",
    "def multiply(P, Q):   \n",
    "   # This function is used for multiplying two numbers   \n",
    "   return P * Q   \n",
    "def divide(P, Q):   \n",
    "   # This function is used for dividing two numbers    \n",
    "   return P / Q    \n",
    "# Now we will take inputs from the user    \n",
    "print (\"Please select the operation.\")    \n",
    "print (\"a. Add\")    \n",
    "print (\"b. Subtract\")    \n",
    "print (\"c. Multiply\")    \n",
    "print (\"d. Divide\")    \n",
    "    \n",
    "choice = input(\"Please enter choice (a-d): \")    \n",
    "    \n",
    "num_1 = int (input (\"Enter the first number: \"))    \n",
    "num_2 = int (input (\"Enter the second number: \"))    \n",
    "    \n",
    "if choice == 'a':    \n",
    "   print (\"The Result is : \", add(num_1, num_2))    \n",
    "    \n",
    "elif choice == 'b':    \n",
    "   print (\"The Result is : \", subtract(num_1, num_2))    \n",
    "    \n",
    "elif choice == 'c':    \n",
    "   print (\"The Result is : \", multiply(num1, num2)) \n",
    "\n",
    "elif choice == 'd':    \n",
    "   print (\"The Result is : \", divide(num_1, num_2))    \n",
    "else:    \n",
    "   print (\"This is an invalid input\")    "
   ]
  },
  {
   "cell_type": "code",
   "execution_count": 4,
   "metadata": {},
   "outputs": [
    {
     "name": "stdout",
     "output_type": "stream",
     "text": [
      "Srivatsan Srinivasan\n",
      "nasavinirS nastavirS\n",
      "Sriva\n"
     ]
    }
   ],
   "source": [
    "#Write a prografrom audioop import reverse\n",
    "\n",
    "\n",
    "firstname=\"Srivatsan \"\n",
    "lastname=\"Srinivasan\"\n",
    "name=firstname+lastname\n",
    "print(name)\n",
    "print(name[::-1])\n",
    "print(name[0:5])"
   ]
  },
  {
   "cell_type": "markdown",
   "metadata": {},
   "source": [
    "Q) Why is Python a popular programming language?\n",
    "\n",
    "Ans) Due to its ease of learning and usage, Python codes can easily be written and executed much faster than other programming \n",
    "languages. One of the main reasons why Python's popularity has exponentially grown is due to its simplicity in syntax so that \n",
    "it could be easy to read and developed by amateur professionals as well.\n",
    "\n",
    "Q) What are the other Frameworks that can be used with python? \n",
    "Ans) Django Pyramid Flask CherryPy ETC\n",
    "\n",
    "Q) Full form of WSGI?\n",
    "Ans) Web Server Gateway Interface."
   ]
  },
  {
   "cell_type": "code",
   "execution_count": null,
   "metadata": {},
   "outputs": [],
   "source": []
  },
  {
   "cell_type": "code",
   "execution_count": null,
   "metadata": {},
   "outputs": [],
   "source": []
  },
  {
   "cell_type": "code",
   "execution_count": null,
   "metadata": {},
   "outputs": [],
   "source": []
  }
 ],
 "metadata": {
  "kernelspec": {
   "display_name": "Python 3",
   "language": "python",
   "name": "python3"
  },
  "language_info": {
   "codemirror_mode": {
    "name": "ipython",
    "version": 3
   },
   "file_extension": ".py",
   "mimetype": "text/x-python",
   "name": "python",
   "nbconvert_exporter": "python",
   "pygments_lexer": "ipython3",
   "version": "3.7.3"
  }
 },
 "nbformat": 4,
 "nbformat_minor": 2
}
